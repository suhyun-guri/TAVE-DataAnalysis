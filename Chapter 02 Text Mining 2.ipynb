{
 "cells": [
  {
   "cell_type": "code",
   "execution_count": 1,
   "metadata": {},
   "outputs": [
    {
     "data": {
      "text/html": [
       "<style>.container { width:95% !important; }</style>"
      ],
      "text/plain": [
       "<IPython.core.display.HTML object>"
      ]
     },
     "metadata": {},
     "output_type": "display_data"
    },
    {
     "data": {
      "text/html": [
       "<style>.input_area pre {font-family: Consolas; font-size: 12pt; line-height: 140%;}</style>"
      ],
      "text/plain": [
       "<IPython.core.display.HTML object>"
      ]
     },
     "metadata": {},
     "output_type": "display_data"
    },
    {
     "data": {
      "text/html": [
       "<style>.output_area pre {font-family: Consolas; font-size: 12pt; line-height: 140%;}</style>"
      ],
      "text/plain": [
       "<IPython.core.display.HTML object>"
      ]
     },
     "metadata": {},
     "output_type": "display_data"
    }
   ],
   "source": [
    "from IPython.core.display import display, HTML\n",
    "display(HTML(\"<style>.container { width:95% !important; }</style>\"))\n",
    "display(HTML(\"<style>.input_area pre {font-family: Consolas; font-size: 12pt; line-height: 140%;}</style>\"))\n",
    "display(HTML(\"<style>.output_area pre {font-family: Consolas; font-size: 12pt; line-height: 140%;}</style>\"))"
   ]
  },
  {
   "cell_type": "code",
   "execution_count": 17,
   "metadata": {},
   "outputs": [],
   "source": [
    "# -*- coding: utf-8 -*-\n",
    "\n",
    "%matplotlib inline\n",
    "\n",
    "import pandas as pd\n",
    "import numpy as np\n",
    "import matplotlib.pyplot as plt\n",
    "\n",
    "import warnings\n",
    "warnings.filterwarnings(\"ignore\")"
   ]
  },
  {
   "cell_type": "code",
   "execution_count": 2,
   "metadata": {},
   "outputs": [],
   "source": [
    "from konlpy.tag import Okt\n",
    "from collections import Counter"
   ]
  },
  {
   "cell_type": "code",
   "execution_count": 3,
   "metadata": {},
   "outputs": [],
   "source": [
    "nouns_tagger = Okt()"
   ]
  },
  {
   "cell_type": "code",
   "execution_count": 5,
   "metadata": {},
   "outputs": [
    {
     "data": {
      "text/plain": [
       "Counter({'저': 1, '김수현': 1, '안녕': 1, '수': 1})"
      ]
     },
     "execution_count": 5,
     "metadata": {},
     "output_type": "execute_result"
    }
   ],
   "source": [
    "# a = '  은는 여기로 연결됩니다  팀의 멤버에 대한 내용은 사토 시오리 팀  문서를의  문단을의  부분을 에 대한 내용은  문서를의  문단을의  문단을의  부분을 에 대한 내용은  문서를의  문단을의  부분을 에 대한 내용은  문서를의  문단을의  부분을 에 대한 내용은  문서를의  문단을의  부분을 에 대한 내용은  문서를의  문단을의  부분을 에 대한 내용은  문서를의  문단을의  부분을 에 대한 내용은  문서를의  문단을의  부분을 에 대한 내용은  문서를의  문단을의  부분을 에 대한 내용은  문서를의  문단을의  부분을 참조하십시오 기 생와타나베 리카스가이 유우카사토 시오리우에무라 리나이시모리 니지카하부 미즈호오제키 리카모리야 아카네사이토 후유카와타나베 리사코이케 미나미코바야시 유이하라다 아오이 기 생마츠다이라 리코세키 유미코타무라 호노엔도 히카리오오누마 아키호마츠다 리나모리야 레나오오조노 레이이노우에 리나모리타 히카루후지요시 카린마스모토 키라타케모토 유이코사카 마리노야마사키 텐 멤 버스즈키 미즈호하라다 마유이마이즈미 유이시다 마나카요네타니 나나미나가하마 네루스즈모토 미유오다 나나히라테 유리나나가사와 나나코  싱글        싱글   싱글   싱글   싱글       싱글   싱글   싱글   싱글      싱글 미정  앨범     앨범   관련 문서 역사멤버음반활동케야키라고 쓸 수 없어시즌     토쿠야마 다이고로를 누가 죽였나잔혹한 관객들여기는 유라쿠쵸 별하늘 방송국케야키의 기적         싱글   싱글   싱글   싱글       싱글   싱글   싱글   싱글      싱글 미정    앨범 역사멤버음반활동케야키라고 쓸 수 없어시즌     토쿠야마 다이고로를 누가 죽였나잔혹한 관객들여기는 유라쿠쵸 별하늘 방송국케야키의 기적  사토 시오리     이름   사토 시오리   출생 년 월 일 세 전갈자리 쥐띠  도쿄도  국적  일본 신체  형 취미 그림 그리기 미술관 순회 카메라 특기 그림 그리기 서예 발레 학력 무사시노미술대학 조형학부 시각전달디자인학과 졸업  소속사    소속그룹 케야키자카 기생 데뷔 년 싱글  사이리움 파랑보라 별명 사토시 시쨩 김희진씨 링크 프로필 블로그   사토 시오리 사진첩     펼치기  접기                                   개요 선발 현황 활동 토쿠야마 다이고로를 누가 죽였나 캐릭터 미대생 여담 역대 프로필 사진일본의 아이돌 그룹 케야키자카의 기생 멤버 년 월 일 진행된 케야키자카의 최종 오디션에 합격했으며 최종 오디션에서는 의 를 불렀다제도전원선발순번선발현황선발열선발열선발열선발열선발열선발열제도 전원선발선발제순번선발현황선발열선발열활동 휴지년 월 일 미술공부의 유학으로 인해 잠시 활동을 일시 중단한다고 발표했다년 월 일 사토 시오리 블로그 내용 중에서하지만 코로나바이러스의 영향으로 가지못하고 일시적으로 복귀케야키자카의 드라마 토쿠야마 다이고로를 누가 죽였는가에 출연했다 캐릭터는 공부를 잘하는 미대를 목표로 하는 우등생'\n",
    "a='안녕하세요 저는 김수현입니다 하 안녕 수 깔'\n",
    "nouns = nouns_tagger.nouns(a)\n",
    "count = Counter(nouns)\n",
    "count"
   ]
  },
  {
   "cell_type": "code",
   "execution_count": 6,
   "metadata": {},
   "outputs": [
    {
     "name": "stdout",
     "output_type": "stream",
     "text": [
      "Counter({'김수현': 1, '안녕': 1})\n"
     ]
    }
   ],
   "source": [
    "# 한글자 키워드를 제거합니다.\n",
    "remove_char_counter = Counter({x : count[x] for x in count if len(x) > 1})\n",
    "print(remove_char_counter)"
   ]
  },
  {
   "cell_type": "code",
   "execution_count": 7,
   "metadata": {},
   "outputs": [
    {
     "name": "stdout",
     "output_type": "stream",
     "text": [
      "['아', '휴', '아이구', '아이쿠', '아이고', '어', '나', '우리', '저희', '따라']\n"
     ]
    }
   ],
   "source": [
    "# 한국어 약식 불용어사전 예시 파일입니다. 출처 - (https://www.ranks.nl/stopwords/korean)\n",
    "korean_stopwords_path = \"../data/korean_stopwords.txt\"\n",
    "\n",
    "# 텍스트 파일을 오픈합니다.\n",
    "with open(korean_stopwords_path, encoding='utf8') as f:\n",
    "    stopwords = f.readlines()\n",
    "stopwords = [x.strip() for x in stopwords]\n",
    "print(stopwords[:10])"
   ]
  },
  {
   "cell_type": "code",
   "execution_count": 8,
   "metadata": {},
   "outputs": [
    {
     "name": "stdout",
     "output_type": "stream",
     "text": [
      "Counter({'김수현': 1, '안녕': 1, '수': 0})\n"
     ]
    }
   ],
   "source": [
    "remove_char_counter = Counter({x : remove_char_counter[x] for x in count if x not in stopwords})\n",
    "print(remove_char_counter)"
   ]
  },
  {
   "cell_type": "code",
   "execution_count": 9,
   "metadata": {},
   "outputs": [
    {
     "name": "stdout",
     "output_type": "stream",
     "text": [
      "pygame 1.9.6\n",
      "Hello from the pygame community. https://www.pygame.org/contribute.html\n"
     ]
    }
   ],
   "source": [
    "import random\n",
    "import pytagcloud\n",
    "import webbrowser\n",
    "\n",
    "# 가장 출현 빈도수가 높은 40개의 단어를 선정합니다.\n",
    "ranked_tags = remove_char_counter.most_common(40)\n",
    "\n",
    "# pytagcloud로 출력할 40개의 단어를 입력합니다. 단어 출력의 최대 크기는 80으로 제한합니다.\n",
    "taglist = pytagcloud.make_tags(ranked_tags, maxsize=80)\n",
    "\n",
    "# pytagcloud 이미지를 생성합니다. 폰트는 나눔 고딕을 사용합니다.\n",
    "pytagcloud.create_tag_image(taglist, 'wordcloud.jpg', size=(900, 600), fontname='NanumGothic', rectangular=False)"
   ]
  },
  {
   "cell_type": "code",
   "execution_count": 14,
   "metadata": {},
   "outputs": [],
   "source": [
    "import tweepy\n",
    "\n",
    "# 발급 완료된 키를 {your_key} 대신 입력합니다.\n",
    "CONSUMER_KEY = \"GgrjOqn1pHrBgnGAtl4bD9dF8\"\n",
    "CONSUMER_SECRET = \"qOq81Z8pR5e30uTLAFvYioimPbGawIlsT9aaxZBg3bAOHrjOIw\"\n",
    "ACCESS_TOKEN_KEY = \"1297413385353535488-EIX3D08fmZLW8tPwTLQoBRG5BhyOAd\"\n",
    "ACCESS_TOKEN_SECRET = \"OmQ6dk442Zgb6DD185CyRWW2aASCvhaYkBC88DGKMpHVv\"\n",
    "\n",
    "# 개인정보 인증을 요청하는 Handler입니다.\n",
    "auth = tweepy.OAuthHandler(CONSUMER_KEY, CONSUMER_SECRET)\n",
    "\n",
    "# 인증 요청을 수행합니다.\n",
    "auth.set_access_token(ACCESS_TOKEN_KEY, ACCESS_TOKEN_SECRET)\n",
    "\n",
    "# twitter API를 사용하기 위한 준비입니다.\n",
    "api = tweepy.API(auth)"
   ]
  },
  {
   "cell_type": "code",
   "execution_count": 15,
   "metadata": {},
   "outputs": [
    {
     "name": "stdout",
     "output_type": "stream",
     "text": [
      "[{'screen_name': 'Haeseul1', 'name': '흥마미🌙', 'id': 1024234028084260865, 'id_str': '1024234028084260865', 'indices': [3, 12]}]\n",
      "[]\n",
      "RT @Haeseul1: 손흥민 이러케 귀여워서 이 험한세상 억덕케 살아가 https://t.co/jz1pzwv7Y0\n",
      "[{'screen_name': 'Haeseul1', 'name': '흥마미🌙', 'id': 1024234028084260865, 'id_str': '1024234028084260865', 'indices': [3, 12]}]\n",
      "[]\n",
      "RT @Haeseul1: 손흥민 이러케 귀여워서 이 험한세상 억덕케 살아가 https://t.co/jz1pzwv7Y0\n",
      "[{'screen_name': 'jansr02', 'name': '나이젤', 'id': 921858446, 'id_str': '921858446', 'indices': [3, 11]}]\n",
      "[]\n",
      "RT @jansr02: 노응래는 또 뭐야? 하긴 나도 손흥민을 손홍민으로 잘못 알고 있었던 적도 있지.\n",
      "[]\n",
      "[]\n",
      "손흥민, ''선수들도 팬들이 그립다''...토트넘 팬, ''SON에게 주장 완장을''\n",
      "https://t.co/G2xOaZ20Wj\n",
      "[{'screen_name': 'sonswembley', 'name': 'days🇰🇷', 'id': 1039535457258725382, 'id_str': '1039535457258725382', 'indices': [3, 15]}]\n",
      "[]\n",
      "RT @sonswembley: 손흥민 대단하다... https://t.co/21QlFurJfB\n",
      "[{'screen_name': 'sonswembley', 'name': 'days🇰🇷', 'id': 1039535457258725382, 'id_str': '1039535457258725382', 'indices': [3, 15]}]\n",
      "[]\n",
      "RT @sonswembley: 손흥민 대단하다... https://t.co/21QlFurJfB\n",
      "[{'screen_name': 'spreadby67', 'name': '한울', 'id': 1244250980712976387, 'id_str': '1244250980712976387', 'indices': [0, 11]}]\n",
      "[]\n",
      "@spreadby67 결론은 손흥민이 손흥민했다\n",
      "[{'screen_name': 'treedomsandy', 'name': 'MTRT 다람이🌱😷', 'id': 1133111797, 'id_str': '1133111797', 'indices': [0, 13]}]\n",
      "[]\n",
      "@treedomsandy 안 나올 수가 없던 상황이었는데,, 걍 손흥민이 잘한 거\n",
      "[{'screen_name': 'domach1972', 'name': 'Goindo칼럼니스트.', 'id': 1679836274, 'id_str': '1679836274', 'indices': [3, 14]}]\n",
      "[]\n",
      "RT @domach1972: 신태용감독의 월드컵팀이 기사회생했다.무조건 이긴다며 황희찬 손흥민 이근호를 투입해 질풍노도의 공격을 퍼부었지만 번번히 헛방이였다.이동국까지 가세해 소나기 슛팅을 날리고도 우즈베크와 0-0으로 무승부였다.그러나 하위팀덕에…\n",
      "[]\n",
      "[]\n",
      "B급, C급이나 그 이하 선수들밖에 없으면서 어떻게 일본인들이 S급이자 월드클래스인 손흥민을 평가하고 입에 담나 내세울건 좆밥 미나미노, 꼬맹이 쿠보뿐이 개허접 국가가 ㅋㅋ\n",
      "[]\n",
      "[]\n",
      "일본애들이 손흥민 흠잡을게 없으니 인성이 어떻고, 러프플레이가 어떻고 하는거 왜 이렇게 어이없지 그럼 수아레즈, 라모스, 페페같은 선수들은 어떻게 생각하는지 되묻고싶고 내가 말할건 일본 유럽파들은 실력자체가… https://t.co/qFihz0tAwR\n",
      "[{'screen_name': 'sonswembley', 'name': 'days🇰🇷', 'id': 1039535457258725382, 'id_str': '1039535457258725382', 'indices': [3, 15]}]\n",
      "[]\n",
      "RT @sonswembley: 손흥민 대단하다... https://t.co/21QlFurJfB\n",
      "[{'screen_name': 'yansn_7', 'name': '𝐲𝐚𝐧', 'id': 1000720189409771520, 'id_str': '1000720189409771520', 'indices': [3, 11]}]\n",
      "[{'text': '손흥민', 'indices': [39, 43]}, {'text': 'Gif', 'indices': [44, 48]}]\n",
      "RT @yansn_7: 🔗 https://t.co/wSTIyVWq3o\n",
      "#손흥민 #Gif https://t.co/uycXGGpyLY\n",
      "[{'screen_name': 'yansn_7', 'name': '𝐲𝐚𝐧', 'id': 1000720189409771520, 'id_str': '1000720189409771520', 'indices': [3, 11]}]\n",
      "[{'text': '손흥민', 'indices': [39, 43]}, {'text': 'Gif', 'indices': [44, 48]}]\n",
      "RT @yansn_7: 🔗 https://t.co/xPYNpV2j82\n",
      "#손흥민 #Gif https://t.co/1Lh8njM1H8\n",
      "[]\n",
      "[]\n",
      "손흥민 대단하다... https://t.co/21QlFurJfB\n"
     ]
    }
   ],
   "source": [
    "# twitter API를 사용하여 ‘손흥민’이 포함된 트윗들을 크롤링한 뒤, entities 에서 ‘user_mentions’, ‘hashtags’를 추출합니다.\n",
    "keyword = \"손흥민\"\n",
    "tweets = api.search(keyword)\n",
    "for tweet in tweets:\n",
    "    print(tweet.entities['user_mentions'])\n",
    "    print(tweet.entities['hashtags'])\n",
    "    print(tweet.text)"
   ]
  },
  {
   "cell_type": "code",
   "execution_count": 18,
   "metadata": {},
   "outputs": [
    {
     "name": "stdout",
     "output_type": "stream",
     "text": [
      "Get data 0.2 % complete..\n",
      "Get data 0.4 % complete..\n",
      "Get data 0.6 % complete..\n",
      "Get data 0.8 % complete..\n",
      "Get data 1.0 % complete..\n",
      "Get data 1.2 % complete..\n",
      "Get data 1.4000000000000001 % complete..\n",
      "Get data 1.6 % complete..\n",
      "Get data 1.7999999999999998 % complete..\n",
      "Get data 2.0 % complete..\n",
      "Get data 2.1999999999999997 % complete..\n",
      "Get data 2.4 % complete..\n",
      "Get data 2.6 % complete..\n",
      "Get data 2.8000000000000003 % complete..\n",
      "Get data 3.0 % complete..\n",
      "Get data 3.2 % complete..\n",
      "Get data 3.4000000000000004 % complete..\n",
      "Get data 3.5999999999999996 % complete..\n",
      "Get data 3.8 % complete..\n",
      "Get data 4.0 % complete..\n",
      "Get data 4.2 % complete..\n",
      "Get data 4.3999999999999995 % complete..\n",
      "Get data 4.6 % complete..\n",
      "Get data 4.8 % complete..\n",
      "Get data 5.0 % complete..\n",
      "Get data 5.2 % complete..\n",
      "Get data 5.4 % complete..\n",
      "Get data 5.6000000000000005 % complete..\n",
      "Get data 5.800000000000001 % complete..\n",
      "Get data 6.0 % complete..\n",
      "Get data 6.2 % complete..\n",
      "Get data 6.4 % complete..\n",
      "Get data 6.6000000000000005 % complete..\n",
      "Get data 6.800000000000001 % complete..\n",
      "Get data 7.000000000000001 % complete..\n",
      "Get data 7.199999999999999 % complete..\n",
      "Get data 7.3999999999999995 % complete..\n",
      "Get data 7.6 % complete..\n",
      "Get data 7.8 % complete..\n",
      "Get data 8.0 % complete..\n",
      "Get data 8.200000000000001 % complete..\n",
      "Get data 8.4 % complete..\n",
      "Get data 8.6 % complete..\n",
      "Get data 8.799999999999999 % complete..\n",
      "Get data 9.0 % complete..\n",
      "Get data 9.2 % complete..\n",
      "Get data 9.4 % complete..\n",
      "Get data 9.6 % complete..\n",
      "Get data 9.8 % complete..\n",
      "Get data 10.0 % complete..\n",
      "Get data 10.2 % complete..\n",
      "Get data 10.4 % complete..\n",
      "Get data 10.6 % complete..\n",
      "Get data 10.8 % complete..\n",
      "Get data 11.0 % complete..\n",
      "Get data 11.200000000000001 % complete..\n",
      "Get data 11.4 % complete..\n",
      "Get data 11.600000000000001 % complete..\n",
      "Get data 11.799999999999999 % complete..\n",
      "Get data 12.0 % complete..\n",
      "Get data 12.2 % complete..\n",
      "Get data 12.4 % complete..\n",
      "Get data 12.6 % complete..\n",
      "Get data 12.8 % complete..\n",
      "Get data 13.0 % complete..\n",
      "Get data 13.200000000000001 % complete..\n",
      "Get data 13.4 % complete..\n",
      "Get data 13.600000000000001 % complete..\n",
      "Get data 13.8 % complete..\n",
      "Get data 14.000000000000002 % complete..\n",
      "Get data 14.2 % complete..\n",
      "Get data 14.399999999999999 % complete..\n",
      "Get data 14.6 % complete..\n",
      "Get data 14.799999999999999 % complete..\n",
      "Get data 15.0 % complete..\n",
      "Get data 15.2 % complete..\n",
      "Get data 15.4 % complete..\n",
      "Get data 15.6 % complete..\n",
      "Get data 15.8 % complete..\n",
      "Get data 16.0 % complete..\n",
      "Get data 16.2 % complete..\n",
      "Get data 16.400000000000002 % complete..\n",
      "Get data 16.6 % complete..\n",
      "Get data 16.8 % complete..\n",
      "Get data 17.0 % complete..\n",
      "Get data 17.2 % complete..\n",
      "Get data 17.4 % complete..\n",
      "Get data 17.599999999999998 % complete..\n",
      "Get data 17.8 % complete..\n",
      "Get data 18.0 % complete..\n",
      "Get data 18.2 % complete..\n",
      "Get data 18.4 % complete..\n",
      "Get data 18.6 % complete..\n",
      "Get data 18.8 % complete..\n",
      "Get data 19.0 % complete..\n",
      "Get data 19.2 % complete..\n",
      "Get data 19.400000000000002 % complete..\n",
      "Get data 19.6 % complete..\n",
      "Get data 19.8 % complete..\n",
      "Get data 100 % complete..\n"
     ]
    }
   ],
   "source": [
    "# 크롤링된 데이터를 저장할 데이터 프레임입니다.\n",
    "columns = ['created', 'tweet_text']\n",
    "df = pd.DataFrame(columns=columns)\n",
    "\n",
    "# twitter API를 사용하여 ‘손흥민’이 포함된 100페이지의 트윗들을 크롤링한 뒤, ‘text’, ‘created_at’ 정보를 데이터 프레임으로 저장합니다.\n",
    "for i in range(1,100):\n",
    "    print(\"Get data\", str(i/500*100), \"% complete..\")\n",
    "    tweets = api.search(keyword)\n",
    "    for tweet in tweets:\n",
    "        tweet_text = tweet.text\n",
    "        created = tweet.created_at\n",
    "        row = [created, tweet_text]\n",
    "        series = pd.Series(row, index=df.columns)\n",
    "        df = df.append(series, ignore_index=True)\n",
    "print(\"Get data 100 % complete..\")"
   ]
  },
  {
   "cell_type": "code",
   "execution_count": null,
   "metadata": {},
   "outputs": [],
   "source": [
    "df.to_csv(\"tweet_temp.csv\", index=False)"
   ]
  },
  {
   "cell_type": "code",
   "execution_count": null,
   "metadata": {},
   "outputs": [],
   "source": []
  },
  {
   "cell_type": "code",
   "execution_count": null,
   "metadata": {},
   "outputs": [],
   "source": []
  },
  {
   "cell_type": "code",
   "execution_count": null,
   "metadata": {},
   "outputs": [],
   "source": []
  },
  {
   "cell_type": "code",
   "execution_count": null,
   "metadata": {},
   "outputs": [],
   "source": []
  },
  {
   "cell_type": "code",
   "execution_count": null,
   "metadata": {},
   "outputs": [],
   "source": []
  }
 ],
 "metadata": {
  "kernelspec": {
   "display_name": "Python 3",
   "language": "python",
   "name": "python3"
  },
  "language_info": {
   "codemirror_mode": {
    "name": "ipython",
    "version": 3
   },
   "file_extension": ".py",
   "mimetype": "text/x-python",
   "name": "python",
   "nbconvert_exporter": "python",
   "pygments_lexer": "ipython3",
   "version": "3.8.5"
  },
  "toc": {
   "base_numbering": 1,
   "nav_menu": {},
   "number_sections": true,
   "sideBar": true,
   "skip_h1_title": false,
   "title_cell": "Table of Contents",
   "title_sidebar": "Contents",
   "toc_cell": false,
   "toc_position": {},
   "toc_section_display": true,
   "toc_window_display": false
  },
  "varInspector": {
   "cols": {
    "lenName": 16,
    "lenType": 16,
    "lenVar": 40
   },
   "kernels_config": {
    "python": {
     "delete_cmd_postfix": "",
     "delete_cmd_prefix": "del ",
     "library": "var_list.py",
     "varRefreshCmd": "print(var_dic_list())"
    },
    "r": {
     "delete_cmd_postfix": ") ",
     "delete_cmd_prefix": "rm(",
     "library": "var_list.r",
     "varRefreshCmd": "cat(var_dic_list()) "
    }
   },
   "types_to_exclude": [
    "module",
    "function",
    "builtin_function_or_method",
    "instance",
    "_Feature"
   ],
   "window_display": false
  }
 },
 "nbformat": 4,
 "nbformat_minor": 2
}
